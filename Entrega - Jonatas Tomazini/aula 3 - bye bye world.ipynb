{
 "cells": [
  {
   "cell_type": "markdown",
   "id": "e95acc49",
   "metadata": {},
   "source": [
    "<hr style=\"height:10px\"> \n",
    " \n",
    "<div class='container2'>\n",
    "\t\t<div>\n",
    "\t\t\t<img src='images/phoca_thumb_l_image03_grd.png' ALIGN='left' style='width:10em'>\n",
    "\t\t</div>\t\n",
    "\t<div style='padding: 0 7em 2em 12em;'>\n",
    "\t<h1>Laboratório de Inovação e Automação 1 (LIA 1)</h1>\n",
    "\t<div style=\"font-size:12pt;float:left;\"> 2023/2 | 24M34 | Sala 200 CAE</div><br><br>\n",
    "    <div style=\"font-size:12pt;float:left;\"><b>Projetos de Inteligência Artificial</b></div>\n",
    "\t</div>\n",
    "</div>\n",
    "\n",
    "\n",
    " <hr style=\"height:5px\"> \n",
    "\n",
    "    \n",
    "<h2>Introdução ao Ambiente de Projetos - Python</h2>\n",
    "\n",
    "Notebook desenvolvido por: <a href=\"http://lattes.cnpq.br/1346824250595330\">Prof. Dr. Adriano C. Santana</a>\n",
    "\n",
    " <hr style=\"height:2px\"> "
   ]
  },
  {
   "cell_type": "markdown",
   "id": "bd771664",
   "metadata": {},
   "source": [
    "#### Tudo sobre Python:\n",
    "\n",
    "https://docs.python.org/3/tutorial/index.html\n"
   ]
  },
  {
   "cell_type": "code",
   "execution_count": null,
   "id": "cc0de2fc",
   "metadata": {},
   "outputs": [],
   "source": [
    "from platform import python_version\n",
    "\n",
    "print(f\"versao é {python_version()}\")"
   ]
  },
  {
   "cell_type": "code",
   "execution_count": 12,
   "id": "6f0d69e5",
   "metadata": {},
   "outputs": [
    {
     "data": {
      "text/plain": [
       "2"
      ]
     },
     "execution_count": 12,
     "metadata": {},
     "output_type": "execute_result"
    }
   ],
   "source": [
    "#adição\n",
    "1 + 1"
   ]
  },
  {
   "cell_type": "code",
   "execution_count": 11,
   "id": "3ebecfda",
   "metadata": {},
   "outputs": [
    {
     "data": {
      "text/plain": [
       "0"
      ]
     },
     "execution_count": 11,
     "metadata": {},
     "output_type": "execute_result"
    }
   ],
   "source": [
    "#subtração\n",
    "1 - 1"
   ]
  },
  {
   "cell_type": "code",
   "execution_count": 10,
   "id": "3b52d589",
   "metadata": {},
   "outputs": [
    {
     "data": {
      "text/plain": [
       "1"
      ]
     },
     "execution_count": 10,
     "metadata": {},
     "output_type": "execute_result"
    }
   ],
   "source": [
    "#multiplicação\n",
    "1 * 1"
   ]
  },
  {
   "cell_type": "code",
   "execution_count": 9,
   "id": "bfcd0b03",
   "metadata": {},
   "outputs": [
    {
     "data": {
      "text/plain": [
       "1"
      ]
     },
     "execution_count": 9,
     "metadata": {},
     "output_type": "execute_result"
    }
   ],
   "source": [
    "#potência\n",
    "1 **2"
   ]
  },
  {
   "cell_type": "code",
   "execution_count": 5,
   "id": "b2eba0da",
   "metadata": {},
   "outputs": [
    {
     "data": {
      "text/plain": [
       "2"
      ]
     },
     "execution_count": 5,
     "metadata": {},
     "output_type": "execute_result"
    }
   ],
   "source": [
    "#adição\n",
    "1 + 1"
   ]
  },
  {
   "cell_type": "code",
   "execution_count": 14,
   "id": "29b4c33c",
   "metadata": {},
   "outputs": [
    {
     "data": {
      "text/plain": [
       "1.0"
      ]
     },
     "execution_count": 14,
     "metadata": {},
     "output_type": "execute_result"
    }
   ],
   "source": [
    "#divisao\n",
    "1 / 1"
   ]
  },
  {
   "cell_type": "code",
   "execution_count": 16,
   "id": "ac9bce5b",
   "metadata": {},
   "outputs": [
    {
     "data": {
      "text/plain": [
       "1"
      ]
     },
     "execution_count": 16,
     "metadata": {},
     "output_type": "execute_result"
    }
   ],
   "source": [
    "#modulo\n",
    "10 % 3"
   ]
  },
  {
   "cell_type": "markdown",
   "id": "c7157d87",
   "metadata": {},
   "source": [
    "####  Condicional if"
   ]
  },
  {
   "cell_type": "code",
   "execution_count": 17,
   "id": "a8713cc8",
   "metadata": {},
   "outputs": [
    {
     "name": "stdout",
     "output_type": "stream",
     "text": [
      "True\n"
     ]
    }
   ],
   "source": [
    "# Condicional if (Se)\n",
    "if 5 > 2:\n",
    "    print(5 > 2)"
   ]
  },
  {
   "cell_type": "markdown",
   "id": "e869cf83",
   "metadata": {},
   "source": [
    "# Manipulando arquivos"
   ]
  },
  {
   "cell_type": "code",
   "execution_count": 25,
   "id": "449632ce",
   "metadata": {},
   "outputs": [
    {
     "name": "stdout",
     "output_type": "stream",
     "text": [
      "\n",
      "Apredendo python\n"
     ]
    }
   ],
   "source": [
    "print(open(\"arquivos/arquivo1.txt\",\"r\").read())"
   ]
  },
  {
   "cell_type": "raw",
   "id": "e61742a9",
   "metadata": {},
   "source": [
    "# gravar"
   ]
  },
  {
   "cell_type": "code",
   "execution_count": 26,
   "id": "a8c69c70",
   "metadata": {},
   "outputs": [
    {
     "name": "stdout",
     "output_type": "stream",
     "text": [
      "Apredendo python\n"
     ]
    }
   ],
   "source": [
    "open(\"arquivos/arquivo1.txt\",\"w\").write(\"Apredendo python\")\n",
    "\n",
    "print(open(\"arquivos/arquivo1.txt\",\"r\").read())\n"
   ]
  },
  {
   "cell_type": "code",
   "execution_count": null,
   "id": "b4513d59",
   "metadata": {},
   "outputs": [],
   "source": []
  },
  {
   "cell_type": "code",
   "execution_count": null,
   "id": "0b0fa088",
   "metadata": {},
   "outputs": [],
   "source": []
  },
  {
   "cell_type": "code",
   "execution_count": null,
   "id": "c093b9db",
   "metadata": {},
   "outputs": [],
   "source": []
  }
 ],
 "metadata": {
  "kernelspec": {
   "display_name": "Python 3 (ipykernel)",
   "language": "python",
   "name": "python3"
  },
  "language_info": {
   "codemirror_mode": {
    "name": "ipython",
    "version": 3
   },
   "file_extension": ".py",
   "mimetype": "text/x-python",
   "name": "python",
   "nbconvert_exporter": "python",
   "pygments_lexer": "ipython3",
   "version": "3.10.9"
  }
 },
 "nbformat": 4,
 "nbformat_minor": 5
}
