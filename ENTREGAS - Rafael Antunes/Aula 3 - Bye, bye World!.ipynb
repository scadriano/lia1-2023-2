{
 "cells": [
  {
   "attachments": {},
   "cell_type": "markdown",
   "id": "65730f1f",
   "metadata": {},
   "source": [
    "<hr style=\"height:10px\"> \n",
    " \n",
    "<div class='container2'>\n",
    "\t\t<div>\n",
    "\t\t\t<img src='imagens\\logo.png' ALIGN='left' style='width:10em'>\n",
    "\t\t</div>\t\n",
    "\t<div style='padding: 0 7em 2em 12em;'>\n",
    "\t<h1>Laboratório de Inovação e Automação 1 (LIA 1)</h1>\n",
    "\t<div style=\"font-size:12pt;float:left;\"> 2023/2 | 24M34 | Sala 200 CAE</div><br><br>\n",
    "    <div style=\"font-size:12pt;float:left;\"><b>Projetos de Inteligência Artificial</b></div>\n",
    "\t</div>\n",
    "</div>\n",
    "\n",
    "\n",
    " <hr style=\"height:5px\"> \n",
    "\n",
    "    \n",
    "<h2>Introdução ao Ambiente de Projetos - Python</h2>\n",
    "\n",
    "Notebook desenvolvido por: <a href=\"http://lattes.cnpq.br/1346824250595330\">Prof. Dr. Adriano C. Santana</a>\n",
    "\n",
    " <hr style=\"height:2px\"> "
   ]
  },
  {
   "cell_type": "markdown",
   "id": "f8789b79",
   "metadata": {},
   "source": [
    "## Tudo sobre o Python\n",
    "\n",
    "https://docs.python.org/pt-br/3/tutorial"
   ]
  },
  {
   "cell_type": "code",
   "execution_count": 1,
   "id": "39d0daa5",
   "metadata": {},
   "outputs": [
    {
     "name": "stdout",
     "output_type": "stream",
     "text": [
      " A versão em uso é 3.11.5.\n"
     ]
    }
   ],
   "source": [
    "from platform import python_version\n",
    "print(f' A versão em uso é {python_version()}.')"
   ]
  },
  {
   "cell_type": "code",
   "execution_count": 2,
   "id": "2eea5df4",
   "metadata": {},
   "outputs": [
    {
     "name": "stdout",
     "output_type": "stream",
     "text": [
      "Bye bye, World!\n"
     ]
    }
   ],
   "source": [
    "# Verificar se o Python está funcionando\n",
    "print('Bye bye, World!')"
   ]
  },
  {
   "cell_type": "markdown",
   "id": "9cc97810",
   "metadata": {},
   "source": [
    "### Operadores aritméticos"
   ]
  },
  {
   "cell_type": "code",
   "execution_count": 3,
   "id": "ba7052e4",
   "metadata": {},
   "outputs": [
    {
     "data": {
      "text/plain": [
       "2"
      ]
     },
     "execution_count": 3,
     "metadata": {},
     "output_type": "execute_result"
    }
   ],
   "source": [
    "# Adição\n",
    "1 + 1"
   ]
  },
  {
   "cell_type": "code",
   "execution_count": 4,
   "id": "203d3553",
   "metadata": {},
   "outputs": [
    {
     "data": {
      "text/plain": [
       "1"
      ]
     },
     "execution_count": 4,
     "metadata": {},
     "output_type": "execute_result"
    }
   ],
   "source": [
    "# Subtração\n",
    "2 - 1"
   ]
  },
  {
   "cell_type": "code",
   "execution_count": 5,
   "id": "c0d1e518",
   "metadata": {},
   "outputs": [
    {
     "data": {
      "text/plain": [
       "4"
      ]
     },
     "execution_count": 5,
     "metadata": {},
     "output_type": "execute_result"
    }
   ],
   "source": [
    "# Multiplicação\n",
    "2 * 2"
   ]
  },
  {
   "cell_type": "code",
   "execution_count": 6,
   "id": "a3fb0ef3",
   "metadata": {},
   "outputs": [
    {
     "data": {
      "text/plain": [
       "1.5"
      ]
     },
     "execution_count": 6,
     "metadata": {},
     "output_type": "execute_result"
    }
   ],
   "source": [
    "# Divisão\n",
    "3 / 2"
   ]
  },
  {
   "cell_type": "code",
   "execution_count": 7,
   "id": "292d8eb1",
   "metadata": {},
   "outputs": [
    {
     "data": {
      "text/plain": [
       "16"
      ]
     },
     "execution_count": 7,
     "metadata": {},
     "output_type": "execute_result"
    }
   ],
   "source": [
    "# Potência\n",
    "4 ** 2"
   ]
  },
  {
   "cell_type": "code",
   "execution_count": 8,
   "id": "28ece7b0",
   "metadata": {},
   "outputs": [
    {
     "data": {
      "text/plain": [
       "1"
      ]
     },
     "execution_count": 8,
     "metadata": {},
     "output_type": "execute_result"
    }
   ],
   "source": [
    "# Módulo (resto da divisão)\n",
    "10 % 3"
   ]
  },
  {
   "cell_type": "markdown",
   "id": "b5a0be19",
   "metadata": {},
   "source": [
    "### Tipos de Dados (Type)"
   ]
  },
  {
   "cell_type": "code",
   "execution_count": 9,
   "id": "0c1e753c",
   "metadata": {},
   "outputs": [
    {
     "data": {
      "text/plain": [
       "int"
      ]
     },
     "execution_count": 9,
     "metadata": {},
     "output_type": "execute_result"
    }
   ],
   "source": [
    "# Qual o tipo d o(?) -> Inteiro\n",
    "type(5)"
   ]
  },
  {
   "cell_type": "code",
   "execution_count": 10,
   "id": "fea91019",
   "metadata": {},
   "outputs": [
    {
     "data": {
      "text/plain": [
       "float"
      ]
     },
     "execution_count": 10,
     "metadata": {},
     "output_type": "execute_result"
    }
   ],
   "source": [
    "# Qual o tipo do (?) -> Float - Decimal\n",
    "type(5.0)"
   ]
  },
  {
   "cell_type": "code",
   "execution_count": 11,
   "id": "2456e826",
   "metadata": {},
   "outputs": [
    {
     "data": {
      "text/plain": [
       "str"
      ]
     },
     "execution_count": 11,
     "metadata": {},
     "output_type": "execute_result"
    }
   ],
   "source": [
    "# Qual o tipo do (?) -> String\n",
    "a = 'Estudando Python!'\n",
    "type(a)"
   ]
  },
  {
   "cell_type": "markdown",
   "id": "30e7f0dc",
   "metadata": {},
   "source": [
    "### Condicional if "
   ]
  },
  {
   "cell_type": "code",
   "execution_count": 12,
   "id": "9777ce1a",
   "metadata": {},
   "outputs": [
    {
     "name": "stdout",
     "output_type": "stream",
     "text": [
      "A sentença é verdadeira\n"
     ]
    }
   ],
   "source": [
    "# Condicional if (Se)\n",
    "if 5 > 2:\n",
    "    print('A sentença é verdadeira')"
   ]
  },
  {
   "cell_type": "code",
   "execution_count": 13,
   "id": "49aaf5c5",
   "metadata": {},
   "outputs": [
    {
     "name": "stdout",
     "output_type": "stream",
     "text": [
      "A sentença é falsa!\n"
     ]
    }
   ],
   "source": [
    "# Condicional if...else\n",
    "if 5 < 2:\n",
    "    print('A sentença é verdadeira')\n",
    "else:\n",
    "    print('A sentença é falsa!')"
   ]
  },
  {
   "cell_type": "code",
   "execution_count": 14,
   "id": "a325bf38",
   "metadata": {},
   "outputs": [
    {
     "name": "stdout",
     "output_type": "stream",
     "text": [
      "Hoje vai chover\n"
     ]
    }
   ],
   "source": [
    "# Condicional if...else com variável\n",
    "dia = 'Quarta-feira'\n",
    "if dia == 'Sexta-feira':\n",
    "    print('Hoje fará sol')\n",
    "else:\n",
    "    print('Hoje vai chover')"
   ]
  },
  {
   "cell_type": "markdown",
   "id": "db193cfe",
   "metadata": {},
   "source": [
    "## Manipulando arquivos"
   ]
  },
  {
   "cell_type": "markdown",
   "id": "beeb3f39",
   "metadata": {},
   "source": [
    "### Lendo arquivos (.txt)"
   ]
  },
  {
   "cell_type": "code",
   "execution_count": 15,
   "id": "931b4a12",
   "metadata": {
    "scrolled": true
   },
   "outputs": [],
   "source": [
    "# Abrindo o arquivo para leitura\n",
    "a1 = open('arquivos/arquivo1.txt', 'r')"
   ]
  },
  {
   "cell_type": "code",
   "execution_count": 16,
   "id": "0da61468",
   "metadata": {
    "scrolled": true
   },
   "outputs": [
    {
     "name": "stdout",
     "output_type": "stream",
     "text": [
      "Seja bem vindo ao curso de Python em 2023/2!\n"
     ]
    }
   ],
   "source": [
    "# Lendo o arquivo\n",
    "print(a1.read())"
   ]
  },
  {
   "cell_type": "markdown",
   "id": "6df50283",
   "metadata": {},
   "source": [
    "### Gravando arquivos (.txt)"
   ]
  },
  {
   "cell_type": "code",
   "execution_count": 17,
   "id": "fb7fe634",
   "metadata": {},
   "outputs": [],
   "source": [
    "# Abrindo o arquivo para a gravação\n",
    "a2 = open('arquivos/arquivo2.txt', 'w')"
   ]
  },
  {
   "cell_type": "code",
   "execution_count": 18,
   "id": "f475c5f7",
   "metadata": {},
   "outputs": [
    {
     "data": {
      "text/plain": [
       "28"
      ]
     },
     "execution_count": 18,
     "metadata": {},
     "output_type": "execute_result"
    }
   ],
   "source": [
    "# Gravando no arquivo\n",
    "a2.write('Aprendendo Python em 2023/2!')"
   ]
  },
  {
   "cell_type": "code",
   "execution_count": 19,
   "id": "bbf9ad51",
   "metadata": {},
   "outputs": [],
   "source": [
    "# Abrindo o aruqivo para leitura\n",
    "a2 = open('arquivos/arquivo2.txt', 'r')"
   ]
  },
  {
   "cell_type": "code",
   "execution_count": 20,
   "id": "37c23243",
   "metadata": {},
   "outputs": [
    {
     "name": "stdout",
     "output_type": "stream",
     "text": [
      "Aprendendo Python em 2023/2!\n"
     ]
    }
   ],
   "source": [
    "# Imprimindo o arquivo\n",
    "print(a2.read())"
   ]
  },
  {
   "cell_type": "code",
   "execution_count": null,
   "id": "b46ed755",
   "metadata": {},
   "outputs": [],
   "source": []
  }
 ],
 "metadata": {
  "kernelspec": {
   "display_name": "Python 3 (ipykernel)",
   "language": "python",
   "name": "python3"
  },
  "language_info": {
   "codemirror_mode": {
    "name": "ipython",
    "version": 3
   },
   "file_extension": ".py",
   "mimetype": "text/x-python",
   "name": "python",
   "nbconvert_exporter": "python",
   "pygments_lexer": "ipython3",
   "version": "3.11.5"
  }
 },
 "nbformat": 4,
 "nbformat_minor": 5
}
