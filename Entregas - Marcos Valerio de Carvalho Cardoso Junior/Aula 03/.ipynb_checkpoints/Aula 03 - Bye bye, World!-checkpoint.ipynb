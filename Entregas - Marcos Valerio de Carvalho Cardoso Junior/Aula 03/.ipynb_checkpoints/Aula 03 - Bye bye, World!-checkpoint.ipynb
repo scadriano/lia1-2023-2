{
 "cells": [
  {
   "cell_type": "markdown",
   "id": "c9c9a7c6",
   "metadata": {},
   "source": [
    "<hr style=\"height:10px\"> \n",
    " \n",
    "<div class='container2'>\n",
    "\t\t<div>\n",
    "\t\t\t<img src='https://e7.pngegg.com/pngimages/554/676/png-clipart-brain-incandescent-light-bulb-computer-icons-idea-people-monochrome.png' ALIGN='left' style='width:10em'>\n",
    "\t\t</div>\t\n",
    "\t<div style='padding: 0 7em 2em 12em;'>\n",
    "\t<h1>Laboratório de Inovação e Automação 1 (LIA 1)</h1>\n",
    "\t<div style=\"font-size:12pt;float:left;\"> 2023/2 | 24M34 | Sala 200 CAE</div><br><br>\n",
    "    <div style=\"font-size:12pt;float:left;\"><b>Projetos de Inteligência Artificial</b></div>\n",
    "\t</div>\n",
    "</div>\n",
    "\n",
    "\n",
    " <hr style=\"height:5px\"> \n",
    "\n",
    "    \n",
    "<h2>Introdução ao Ambiente de Projetos - Python</h2>\n",
    "\n",
    "Notebook desenvolvido por: Marcos Valério de Carvalho Cardoso Júnior\n",
    "\n",
    " <hr style=\"height:2px\"> "
   ]
  },
  {
   "cell_type": "markdown",
   "id": "b5fceb6c",
   "metadata": {},
   "source": [
    "#### Tudo sobre python:\n",
    "\n",
    "https://docs.python.org/pt-br/3/tutorial/"
   ]
  },
  {
   "cell_type": "code",
   "execution_count": 51,
   "id": "827a5322",
   "metadata": {},
   "outputs": [
    {
     "name": "stdout",
     "output_type": "stream",
     "text": [
      "A versão em uso é 3.10.6.\n"
     ]
    }
   ],
   "source": [
    "from platform import python_version\n",
    "print(f'A versão em uso é {python_version()}.')"
   ]
  },
  {
   "cell_type": "code",
   "execution_count": 52,
   "id": "56d25050",
   "metadata": {},
   "outputs": [
    {
     "name": "stdout",
     "output_type": "stream",
     "text": [
      "Bye bye, World!\n"
     ]
    }
   ],
   "source": [
    "# Verificar se o Python está funcionando\n",
    "print('Bye bye, World!')"
   ]
  },
  {
   "cell_type": "markdown",
   "id": "b912fa44",
   "metadata": {},
   "source": [
    "#### Operadores Aritméticos"
   ]
  },
  {
   "cell_type": "code",
   "execution_count": 53,
   "id": "7ee0a065",
   "metadata": {},
   "outputs": [
    {
     "data": {
      "text/plain": [
       "2"
      ]
     },
     "execution_count": 53,
     "metadata": {},
     "output_type": "execute_result"
    }
   ],
   "source": [
    "# Adição\n",
    "1 + 1"
   ]
  },
  {
   "cell_type": "code",
   "execution_count": 54,
   "id": "45d89868",
   "metadata": {},
   "outputs": [
    {
     "data": {
      "text/plain": [
       "1"
      ]
     },
     "execution_count": 54,
     "metadata": {},
     "output_type": "execute_result"
    }
   ],
   "source": [
    "# Subtração\n",
    "2 - 1"
   ]
  },
  {
   "cell_type": "code",
   "execution_count": 55,
   "id": "fdbe71c8",
   "metadata": {},
   "outputs": [
    {
     "data": {
      "text/plain": [
       "4"
      ]
     },
     "execution_count": 55,
     "metadata": {},
     "output_type": "execute_result"
    }
   ],
   "source": [
    "# Multiplicação\n",
    "2 * 2"
   ]
  },
  {
   "cell_type": "code",
   "execution_count": 56,
   "id": "3079548e",
   "metadata": {},
   "outputs": [
    {
     "data": {
      "text/plain": [
       "1.5"
      ]
     },
     "execution_count": 56,
     "metadata": {},
     "output_type": "execute_result"
    }
   ],
   "source": [
    "# Divisão\n",
    "3 / 2"
   ]
  },
  {
   "cell_type": "code",
   "execution_count": 57,
   "id": "355808ed",
   "metadata": {},
   "outputs": [
    {
     "data": {
      "text/plain": [
       "16"
      ]
     },
     "execution_count": 57,
     "metadata": {},
     "output_type": "execute_result"
    }
   ],
   "source": [
    "# Potência\n",
    "4 ** 2"
   ]
  },
  {
   "cell_type": "code",
   "execution_count": 58,
   "id": "b16f89df",
   "metadata": {},
   "outputs": [
    {
     "data": {
      "text/plain": [
       "1"
      ]
     },
     "execution_count": 58,
     "metadata": {},
     "output_type": "execute_result"
    }
   ],
   "source": [
    "# Módulo (resto da divisão)\n",
    "10 % 3"
   ]
  },
  {
   "cell_type": "markdown",
   "id": "ca9df82c",
   "metadata": {},
   "source": [
    "#### Tipo de Dados (Type)"
   ]
  },
  {
   "cell_type": "code",
   "execution_count": 59,
   "id": "bcbc5764",
   "metadata": {},
   "outputs": [
    {
     "data": {
      "text/plain": [
       "int"
      ]
     },
     "execution_count": 59,
     "metadata": {},
     "output_type": "execute_result"
    }
   ],
   "source": [
    "# Qual o tipo do (?) -> inteiro\n",
    "type(5)"
   ]
  },
  {
   "cell_type": "code",
   "execution_count": 60,
   "id": "0e787953",
   "metadata": {},
   "outputs": [
    {
     "data": {
      "text/plain": [
       "float"
      ]
     },
     "execution_count": 60,
     "metadata": {},
     "output_type": "execute_result"
    }
   ],
   "source": [
    "# Qual o tipo do (?) -> float - decimal\n",
    "type(5.0)"
   ]
  },
  {
   "cell_type": "code",
   "execution_count": 61,
   "id": "409a8929",
   "metadata": {},
   "outputs": [
    {
     "data": {
      "text/plain": [
       "str"
      ]
     },
     "execution_count": 61,
     "metadata": {},
     "output_type": "execute_result"
    }
   ],
   "source": [
    "# Qual o tipo do (?) -. String\n",
    "s = 'Estudando Python!'\n",
    "type(s)"
   ]
  },
  {
   "cell_type": "code",
   "execution_count": 62,
   "id": "e5a11f66",
   "metadata": {},
   "outputs": [
    {
     "name": "stdout",
     "output_type": "stream",
     "text": [
      "A sentença é verdadeira!\n"
     ]
    }
   ],
   "source": [
    "# Condicional if\n",
    "if 5 > 2:\n",
    "    print(\"A sentença é verdadeira!\")"
   ]
  },
  {
   "cell_type": "code",
   "execution_count": 63,
   "id": "f5d08950",
   "metadata": {},
   "outputs": [
    {
     "name": "stdout",
     "output_type": "stream",
     "text": [
      "A senteça é falsa!\n"
     ]
    }
   ],
   "source": [
    "# Condicional if...else:\n",
    "if 5 < 2:\n",
    "    print(\"A sentença é verdadeira!\")\n",
    "else:\n",
    "    print(\"A senteça é falsa!\")"
   ]
  },
  {
   "cell_type": "code",
   "execution_count": 73,
   "id": "0bc5a2c9",
   "metadata": {},
   "outputs": [
    {
     "ename": "SyntaxError",
     "evalue": "expected ':' (3079901705.py, line 3)",
     "output_type": "error",
     "traceback": [
      "\u001b[0;36m  File \u001b[0;32m\"/tmp/ipykernel_25698/3079901705.py\"\u001b[0;36m, line \u001b[0;32m3\u001b[0m\n\u001b[0;31m    if dia == \"Sexta feira\"\u001b[0m\n\u001b[0m                           ^\u001b[0m\n\u001b[0;31mSyntaxError\u001b[0m\u001b[0;31m:\u001b[0m expected ':'\n"
     ]
    }
   ],
   "source": [
    "# Condicional if...else com variável:\n",
    "dia = \"Quarta feira\"\n",
    "if dia == \"Sexta feira\"\n",
    "    print(\"O dia é sexta feira\")\n",
    "else:\n",
    "    print(\"O dia não é sexta feira\")"
   ]
  },
  {
   "cell_type": "markdown",
   "id": "307ca04d",
   "metadata": {},
   "source": [
    "#### Manipulando arquivos"
   ]
  },
  {
   "cell_type": "markdown",
   "id": "e344d99f",
   "metadata": {},
   "source": [
    "#### Lendo arquivos (.txt)"
   ]
  },
  {
   "cell_type": "code",
   "execution_count": 67,
   "id": "767c67bb",
   "metadata": {},
   "outputs": [],
   "source": [
    "# Abrindo o arquivo para leitura\n",
    "a1 = open(\"lia1-2023-2/Aula 03/arquivos/arquivos.txt\", \"r\")"
   ]
  },
  {
   "cell_type": "code",
   "execution_count": 68,
   "id": "646722b7",
   "metadata": {},
   "outputs": [
    {
     "name": "stdout",
     "output_type": "stream",
     "text": [
      "Texto do arquivo\n",
      "\n"
     ]
    }
   ],
   "source": [
    "# Lendo o arquivo\n",
    "print(a1.read())"
   ]
  },
  {
   "cell_type": "markdown",
   "id": "3b0cd7e3",
   "metadata": {},
   "source": [
    "#### Gravando arquivos (.txt)"
   ]
  },
  {
   "cell_type": "code",
   "execution_count": 69,
   "id": "ce7a9e32",
   "metadata": {},
   "outputs": [],
   "source": [
    "# Abrindo o arquivo para gravação\n",
    "a2 = open(\"lia1-2023-2/Aula 03/arquivos/arquivo2.txt\", \"w\")"
   ]
  },
  {
   "cell_type": "code",
   "execution_count": 70,
   "id": "dda97d99",
   "metadata": {},
   "outputs": [
    {
     "data": {
      "text/plain": [
       "28"
      ]
     },
     "execution_count": 70,
     "metadata": {},
     "output_type": "execute_result"
    }
   ],
   "source": [
    "# Gravando no arquivo\n",
    "a2.write(\"Aprendendo Python em 2023/2!\")"
   ]
  },
  {
   "cell_type": "code",
   "execution_count": 71,
   "id": "3f149a0d",
   "metadata": {},
   "outputs": [],
   "source": [
    "# Abrindo o arquivo para leitura\n",
    "a2 = open(\"lia1-2023-2/Aula 03/arquivos/arquivo2.txt\", \"r\")"
   ]
  },
  {
   "cell_type": "code",
   "execution_count": 72,
   "id": "90653924",
   "metadata": {},
   "outputs": [
    {
     "name": "stdout",
     "output_type": "stream",
     "text": [
      "Aprendendo Python em 2023/2!\n"
     ]
    }
   ],
   "source": [
    "# Imprimindo arquivo\n",
    "print(a2.read())"
   ]
  },
  {
   "cell_type": "code",
   "execution_count": null,
   "id": "a5df6c9d",
   "metadata": {},
   "outputs": [],
   "source": []
  }
 ],
 "metadata": {
  "kernelspec": {
   "display_name": "Python 3 (ipykernel)",
   "language": "python",
   "name": "python3"
  },
  "language_info": {
   "codemirror_mode": {
    "name": "ipython",
    "version": 3
   },
   "file_extension": ".py",
   "mimetype": "text/x-python",
   "name": "python",
   "nbconvert_exporter": "python",
   "pygments_lexer": "ipython3",
   "version": "3.11.5"
  }
 },
 "nbformat": 4,
 "nbformat_minor": 5
}
