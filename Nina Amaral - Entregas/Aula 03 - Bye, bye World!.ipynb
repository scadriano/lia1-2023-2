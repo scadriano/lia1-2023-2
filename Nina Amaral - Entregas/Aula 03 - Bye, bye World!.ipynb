{
 "cells": [
  {
   "cell_type": "markdown",
   "id": "87aa1d0e",
   "metadata": {},
   "source": [
    "<hr style=\"height:10px\"> \n",
    " \n",
    "<div class='container2'>\n",
    "\t\t<div>\n",
    "\t\t\t<img src='Images\\header.jpg' ALIGN='left' style='width:10em'>\n",
    "\t\t</div>\t\n",
    "\t<div style='padding: 0 7em 2em 12em;'>\n",
    "\t<h1>Laboratório de Inovação e Automação 1 (LIA 1)</h1>\n",
    "\t<div style=\"font-size:12pt;float:left;\"> 2023/2 | 24M34 | Sala 200 CAE</div><br><br>\n",
    "    <div style=\"font-size:12pt;float:left;\"><b>Projetos de Inteligência Artificial</b></div>\n",
    "\t</div>\n",
    "</div>\n",
    "\n",
    "\n",
    " <hr style=\"height:5px\"> \n",
    "\n",
    "    \n",
    "<h2>Introdução ao Ambiente de Projetos - Python</h2>\n",
    "\n",
    "Notebook desenvolvido por: <a href=\"http://lattes.cnpq.br/1346824250595330\">Prof. Dr. Adriano C. Santana</a>\n",
    "\n",
    "<div style=\"font-size:11pt;float:left;\">E copiado por: <a href=\"https://media1.tenor.com/images/7584f7f6485971295f5bf2929ebdfd87/tenor.gif?itemid=8850968\">Nina Amaral</a></div>\n",
    "<h2>\n",
    "\n",
    "\n",
    "\n",
    " <hr style=\"height:2px\"> "
   ]
  },
  {
   "cell_type": "markdown",
   "id": "e6da05e3",
   "metadata": {},
   "source": [
    "<b>Tudo sobre o Python:</b>\n",
    "    https://docs.python.org/pt-br/3/tutorial/\n",
    "    "
   ]
  },
  {
   "cell_type": "code",
   "execution_count": 10,
   "id": "340c3f34",
   "metadata": {},
   "outputs": [
    {
     "name": "stdout",
     "output_type": "stream",
     "text": [
      "A versão em uso é 3.11.5.\n"
     ]
    }
   ],
   "source": [
    "from platform import python_version\n",
    "print(f'A versão em uso é {python_version()}.')"
   ]
  },
  {
   "cell_type": "code",
   "execution_count": 11,
   "id": "c0d9694a",
   "metadata": {},
   "outputs": [
    {
     "name": "stdout",
     "output_type": "stream",
     "text": [
      "Bye bye, World!\n"
     ]
    }
   ],
   "source": [
    "#Verificar se o Python está funcionando\n",
    "print('Bye bye, World!')"
   ]
  },
  {
   "cell_type": "code",
   "execution_count": 12,
   "id": "75854798",
   "metadata": {},
   "outputs": [
    {
     "data": {
      "text/plain": [
       "1"
      ]
     },
     "execution_count": 12,
     "metadata": {},
     "output_type": "execute_result"
    }
   ],
   "source": [
    "#Subtração\n",
    "2-1"
   ]
  },
  {
   "cell_type": "code",
   "execution_count": 13,
   "id": "2e80bd30",
   "metadata": {},
   "outputs": [
    {
     "data": {
      "text/plain": [
       "4"
      ]
     },
     "execution_count": 13,
     "metadata": {},
     "output_type": "execute_result"
    }
   ],
   "source": [
    "#Multiplicação\n",
    "2*2"
   ]
  },
  {
   "cell_type": "code",
   "execution_count": 14,
   "id": "16202f5a",
   "metadata": {},
   "outputs": [
    {
     "data": {
      "text/plain": [
       "1.5"
      ]
     },
     "execution_count": 14,
     "metadata": {},
     "output_type": "execute_result"
    }
   ],
   "source": [
    "#Divisão\n",
    "3 / 2"
   ]
  },
  {
   "cell_type": "code",
   "execution_count": 15,
   "id": "e53e7fb2",
   "metadata": {},
   "outputs": [
    {
     "data": {
      "text/plain": [
       "16"
      ]
     },
     "execution_count": 15,
     "metadata": {},
     "output_type": "execute_result"
    }
   ],
   "source": [
    "#Potência\n",
    "4**2"
   ]
  },
  {
   "cell_type": "code",
   "execution_count": 16,
   "id": "7f455b08",
   "metadata": {},
   "outputs": [
    {
     "data": {
      "text/plain": [
       "1"
      ]
     },
     "execution_count": 16,
     "metadata": {},
     "output_type": "execute_result"
    }
   ],
   "source": [
    "#Módulo (resto da divisão)\n",
    "10%3"
   ]
  },
  {
   "cell_type": "code",
   "execution_count": 17,
   "id": "2f9dfacd",
   "metadata": {},
   "outputs": [
    {
     "data": {
      "text/plain": [
       "str"
      ]
     },
     "execution_count": 17,
     "metadata": {},
     "output_type": "execute_result"
    }
   ],
   "source": [
    "#Qual o tipo do (?) -> String\n",
    "a='Estudando Python!'\n",
    "type(a)"
   ]
  },
  {
   "cell_type": "markdown",
   "id": "8bdd6058",
   "metadata": {},
   "source": [
    "<b>Condicional if</b>"
   ]
  },
  {
   "cell_type": "code",
   "execution_count": 7,
   "id": "c5a7dd3f",
   "metadata": {},
   "outputs": [
    {
     "name": "stdout",
     "output_type": "stream",
     "text": [
      "A sentença é verdadeira!\n"
     ]
    }
   ],
   "source": [
    "#Condicional if (Se)\n",
    "if 5>2:\n",
    "    print(\"A sentença é verdadeira!\")"
   ]
  },
  {
   "cell_type": "code",
   "execution_count": 8,
   "id": "be7ffa9b",
   "metadata": {},
   "outputs": [
    {
     "name": "stdout",
     "output_type": "stream",
     "text": [
      "A sentença é falsa :(\n"
     ]
    }
   ],
   "source": [
    "#Condicional if...else\n",
    "if 5<2:\n",
    "    print(\"A sentença é verdadeira!\")\n",
    "else:\n",
    "    print(\"A sentença é falsa :(\")"
   ]
  },
  {
   "cell_type": "code",
   "execution_count": 9,
   "id": "833ade3d",
   "metadata": {},
   "outputs": [
    {
     "name": "stdout",
     "output_type": "stream",
     "text": [
      "Hoje vai chover!\n"
     ]
    }
   ],
   "source": [
    "#Condicional if...else com variável:\n",
    "dia=\"Quarta-feira\"\n",
    "if dia == \"Sexta-feira\":\n",
    "    print(\"Hoje fará sol!\")\n",
    "else:\n",
    "    print(\"Hoje vai chover!\")"
   ]
  },
  {
   "cell_type": "markdown",
   "id": "45fa769e",
   "metadata": {},
   "source": [
    "<h3>Manipulando Arquivos</h3>\n",
    "    \n",
    "<b>Lendo arquivos .txt</b>\n",
    "    \n",
    "  "
   ]
  },
  {
   "cell_type": "code",
   "execution_count": 1,
   "id": "cf2e74ea",
   "metadata": {},
   "outputs": [],
   "source": [
    "#Abrindo o arquivo para leitura\n",
    "a1 = open(\"arquivos/arquivo1.txt\",\"r\")"
   ]
  },
  {
   "cell_type": "code",
   "execution_count": 2,
   "id": "9482ba47",
   "metadata": {},
   "outputs": [
    {
     "name": "stdout",
     "output_type": "stream",
     "text": [
      "Art by Rowan Crawford\n",
      "           .               ,.\n",
      "          T.\"-._..---.._,-\"/|\n",
      "          l|\"-.  _.v._   (\" |\n",
      "          [l /.'_ \\; _~\"-.`-t\n",
      "          Y \" _(o} _{o)._ ^.|\n",
      "          j  T  ,--.  T  ]\n",
      "          \\  l ( /-^-\\ ) !  !\n",
      "           \\. \\.  \"~\"  ./  /c-..,__\n",
      "             ^r- .._ .- .-\"  `- .  ~\"--.\n",
      "              > \\.                      \\\n",
      "              ]   ^.                     \\\n",
      "              3  .  \">            .       Y  -Row\n",
      " ,.__.--._   _j   \\ ~   .         ;       |\n",
      "(    ~\"-._~\"^._\\   ^.    ^._      I     . l\n",
      " \"-._ ___ ~\"-,_7    .Z-._   7\"   Y      ;  \\        _\n",
      "    /\"   \"~-(r r  _/_--._~-/    /      /,.--^-._   / Y\n",
      "    \"-._    '\"~~~>-._~]>--^---./____,.^~        ^.^  !\n",
      "        ~--._    '   Y---.                        \\./\n",
      "             ~~--._  l_   )                        \\\n",
      "                   ~-._~~~---._,____..---           \\\n",
      "                       ~----\"~       \\\n",
      "                                      \\\n",
      "\n"
     ]
    }
   ],
   "source": [
    "#Lendo o arquivo\n",
    "print(a1.read())"
   ]
  },
  {
   "cell_type": "markdown",
   "id": "fe640941",
   "metadata": {},
   "source": [
    "<b> Gravando arquivos .txt</b>\n"
   ]
  },
  {
   "cell_type": "code",
   "execution_count": 3,
   "id": "2f542915",
   "metadata": {},
   "outputs": [],
   "source": [
    "#Abrindo o arquivo para gravação:\n",
    "a2 = open(\"arquivos/arquivo2.txt\",\"w\")"
   ]
  },
  {
   "cell_type": "code",
   "execution_count": 4,
   "id": "00bfcccf",
   "metadata": {},
   "outputs": [
    {
     "data": {
      "text/plain": [
       "9"
      ]
     },
     "execution_count": 4,
     "metadata": {},
     "output_type": "execute_result"
    }
   ],
   "source": [
    "#Gravando no arquivo\n",
    "a2.write(\"waah weeh\")"
   ]
  },
  {
   "cell_type": "code",
   "execution_count": 5,
   "id": "05f307e3",
   "metadata": {},
   "outputs": [],
   "source": [
    "#Abrindo o arquivo para leitura\n",
    "a2 = open(\"arquivos/arquivo2.txt\",\"r\")"
   ]
  },
  {
   "cell_type": "code",
   "execution_count": 6,
   "id": "e1b99047",
   "metadata": {},
   "outputs": [
    {
     "name": "stdout",
     "output_type": "stream",
     "text": [
      "waah weeh\n"
     ]
    }
   ],
   "source": [
    "#Imprimindo arquivo\n",
    "print(a2.read())"
   ]
  },
  {
   "cell_type": "code",
   "execution_count": null,
   "id": "f6e41127",
   "metadata": {},
   "outputs": [],
   "source": []
  }
 ],
 "metadata": {
  "kernelspec": {
   "display_name": "Python 3 (ipykernel)",
   "language": "python",
   "name": "python3"
  },
  "language_info": {
   "codemirror_mode": {
    "name": "ipython",
    "version": 3
   },
   "file_extension": ".py",
   "mimetype": "text/x-python",
   "name": "python",
   "nbconvert_exporter": "python",
   "pygments_lexer": "ipython3",
   "version": "3.11.5"
  }
 },
 "nbformat": 4,
 "nbformat_minor": 5
}
