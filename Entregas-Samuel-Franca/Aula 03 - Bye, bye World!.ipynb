{
 "cells": [
  {
   "cell_type": "markdown",
   "id": "456ca321",
   "metadata": {},
   "source": [
    "<hr style=\"height:10px\"> \n",
    " \n",
    "<div class='container2'>\n",
    "\t\t<div>\n",
    "\t\t\t<img src='Pictures\\pyt.png' ALIGN='left' style='width:10em'>\n",
    "\t\t</div>\t\n",
    "\t<div style='padding: 0 7em 2em 12em;'>\n",
    "\t<h1>Laboratório de Inovação e Automação 1 (LIA 1)</h1>\n",
    "\t<div style=\"font-size:12pt;float:left;\"> 2023/2 | 24M34 | Sala 200 CAE</div><br><br>\n",
    "    <div style=\"font-size:12pt;float:left;\"><b>Projetos de Inteligência Artificial</b></div>\n",
    "\t</div>\n",
    "</div>\n",
    "\n",
    "\n",
    " <hr style=\"height:5px\"> \n",
    "\n",
    "    \n",
    "<h2>Introdução ao Ambiente de Projetos - Python</h2>\n",
    "\n",
    "Notebook desenvolvido por: <a href=\"http://lattes.cnpq.br/1346824250595330\">Prof. Dr. Adriano C. Santana</a>\n",
    "\n",
    " <hr style=\"height:2px\"> "
   ]
  },
  {
   "cell_type": "markdown",
   "id": "54c90504",
   "metadata": {},
   "source": [
    "# Tutorial Python: docs.python.org/pt-br/3/tutorial/"
   ]
  },
  {
   "cell_type": "code",
   "execution_count": 8,
   "id": "6be7b10a",
   "metadata": {},
   "outputs": [
    {
     "name": "stdout",
     "output_type": "stream",
     "text": [
      "Python Version: 3.11.5.\n"
     ]
    }
   ],
   "source": [
    "from platform import python_version\n",
    "print(f'Python Version: {python_version()}.')"
   ]
  },
  {
   "cell_type": "code",
   "execution_count": 9,
   "id": "61fc0cc8",
   "metadata": {},
   "outputs": [
    {
     "name": "stdout",
     "output_type": "stream",
     "text": [
      "[1, 2, 3, 4, 5, 'a', 'b', 'c']\n"
     ]
    }
   ],
   "source": [
    "list = [1, 2, 3, 4, 5, \"a\", \"b\", \"c\"]\n",
    "print(list)"
   ]
  },
  {
   "cell_type": "code",
   "execution_count": 13,
   "id": "a3ec47f6",
   "metadata": {},
   "outputs": [
    {
     "name": "stdout",
     "output_type": "stream",
     "text": [
      "<class 'list'>\n",
      "<class 'int'>\n",
      "<class 'str'>\n"
     ]
    }
   ],
   "source": [
    "print(type(list))\n",
    "print(type(list[0]))\n",
    "print(type(list[-1]))"
   ]
  },
  {
   "cell_type": "code",
   "execution_count": 21,
   "id": "c1522e11",
   "metadata": {},
   "outputs": [
    {
     "name": "stdout",
     "output_type": "stream",
     "text": [
      "[1, 2, 3, 4, 5, 6, 7, 8]\n"
     ]
    }
   ],
   "source": [
    "for i in list:\n",
    "    if type(i) is int:\n",
    "        i = i + 1\n",
    "print(list)"
   ]
  },
  {
   "cell_type": "markdown",
   "id": "647cbebb",
   "metadata": {},
   "source": [
    "# Arquivos .txt"
   ]
  },
  {
   "cell_type": "code",
   "execution_count": 26,
   "id": "1909a255",
   "metadata": {},
   "outputs": [
    {
     "name": "stdout",
     "output_type": "stream",
     "text": [
      "Seja bem-vindo ao curso de Python em 2023/2\n"
     ]
    }
   ],
   "source": [
    "arq = open(\"arquivos/arquivo.txt\", \"r\")\n",
    "print(arq.read())"
   ]
  },
  {
   "cell_type": "code",
   "execution_count": 28,
   "id": "9ddfe577",
   "metadata": {},
   "outputs": [
    {
     "name": "stdout",
     "output_type": "stream",
     "text": [
      "Aprendendo Python\n"
     ]
    }
   ],
   "source": [
    "arq2 = open(\"arquivos/arquivo2.txt\", \"w\")\n",
    "arq2.write(\"Aprendendo Python\")\n",
    "arq2 = open(\"arquivos/arquivo2.txt\", \"r\")\n",
    "print(arq2.read())"
   ]
  },
  {
   "cell_type": "code",
   "execution_count": null,
   "id": "dca8a698",
   "metadata": {},
   "outputs": [],
   "source": []
  }
 ],
 "metadata": {
  "kernelspec": {
   "display_name": "Python 3 (ipykernel)",
   "language": "python",
   "name": "python3"
  },
  "language_info": {
   "codemirror_mode": {
    "name": "ipython",
    "version": 3
   },
   "file_extension": ".py",
   "mimetype": "text/x-python",
   "name": "python",
   "nbconvert_exporter": "python",
   "pygments_lexer": "ipython3",
   "version": "3.11.5"
  }
 },
 "nbformat": 4,
 "nbformat_minor": 5
}
