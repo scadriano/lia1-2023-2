{
 "cells": [
  {
   "cell_type": "code",
   "execution_count": null,
   "id": "ed16ee0a",
   "metadata": {},
   "outputs": [],
   "source": [
    "https://docs.python.org/pt-br/3/tutorial"
   ]
  },
  {
   "cell_type": "code",
   "execution_count": 2,
   "id": "e5e47822",
   "metadata": {},
   "outputs": [
    {
     "name": "stdout",
     "output_type": "stream",
     "text": [
      "Versão: 3.11.5.\n"
     ]
    }
   ],
   "source": [
    "from platform import python_version\n",
    "print(f'Versão: {python_version()}.')"
   ]
  },
  {
   "cell_type": "code",
   "execution_count": 3,
   "id": "51d33334",
   "metadata": {},
   "outputs": [
    {
     "data": {
      "text/plain": [
       "2"
      ]
     },
     "execution_count": 3,
     "metadata": {},
     "output_type": "execute_result"
    }
   ],
   "source": [
    "1+1"
   ]
  },
  {
   "cell_type": "code",
   "execution_count": 4,
   "id": "6e7b62f2",
   "metadata": {},
   "outputs": [
    {
     "data": {
      "text/plain": [
       "1"
      ]
     },
     "execution_count": 4,
     "metadata": {},
     "output_type": "execute_result"
    }
   ],
   "source": [
    "2-1"
   ]
  },
  {
   "cell_type": "code",
   "execution_count": 5,
   "id": "1ab1d835",
   "metadata": {},
   "outputs": [
    {
     "data": {
      "text/plain": [
       "4"
      ]
     },
     "execution_count": 5,
     "metadata": {},
     "output_type": "execute_result"
    }
   ],
   "source": [
    "2*2"
   ]
  },
  {
   "cell_type": "code",
   "execution_count": 7,
   "id": "0405f881",
   "metadata": {},
   "outputs": [
    {
     "data": {
      "text/plain": [
       "1.5"
      ]
     },
     "execution_count": 7,
     "metadata": {},
     "output_type": "execute_result"
    }
   ],
   "source": [
    "3/2"
   ]
  },
  {
   "cell_type": "code",
   "execution_count": 8,
   "id": "486caae1",
   "metadata": {},
   "outputs": [
    {
     "data": {
      "text/plain": [
       "16"
      ]
     },
     "execution_count": 8,
     "metadata": {},
     "output_type": "execute_result"
    }
   ],
   "source": [
    "4 ** 2"
   ]
  },
  {
   "cell_type": "code",
   "execution_count": null,
   "id": "8462ffdd",
   "metadata": {},
   "outputs": [],
   "source": []
  },
  {
   "cell_type": "code",
   "execution_count": null,
   "id": "dae94603",
   "metadata": {},
   "outputs": [],
   "source": []
  },
  {
   "cell_type": "code",
   "execution_count": null,
   "id": "1a9d6ff2",
   "metadata": {},
   "outputs": [],
   "source": [
    "# Resto da divisão\n",
    "10 % 3"
   ]
  },
  {
   "cell_type": "code",
   "execution_count": 9,
   "id": "32a5662d",
   "metadata": {},
   "outputs": [
    {
     "data": {
      "text/plain": [
       "int"
      ]
     },
     "execution_count": 9,
     "metadata": {},
     "output_type": "execute_result"
    }
   ],
   "source": [
    "type(5)"
   ]
  },
  {
   "cell_type": "code",
   "execution_count": 10,
   "id": "7095a29d",
   "metadata": {},
   "outputs": [
    {
     "data": {
      "text/plain": [
       "float"
      ]
     },
     "execution_count": 10,
     "metadata": {},
     "output_type": "execute_result"
    }
   ],
   "source": [
    "type(5.0)"
   ]
  },
  {
   "cell_type": "code",
   "execution_count": 11,
   "id": "7ab5acf8",
   "metadata": {},
   "outputs": [
    {
     "data": {
      "text/plain": [
       "str"
      ]
     },
     "execution_count": 11,
     "metadata": {},
     "output_type": "execute_result"
    }
   ],
   "source": [
    "a = 'Estudando Python!'\n",
    "type(a)"
   ]
  },
  {
   "cell_type": "code",
   "execution_count": 12,
   "id": "54371219",
   "metadata": {},
   "outputs": [
    {
     "name": "stdout",
     "output_type": "stream",
     "text": [
      "A sentença é verdadeira!\n"
     ]
    }
   ],
   "source": [
    "# Condicional if\n",
    "if 5 > 2:\n",
    "    print(\"A sentença é verdadeira!\")"
   ]
  },
  {
   "cell_type": "code",
   "execution_count": 13,
   "id": "10aaaa30",
   "metadata": {},
   "outputs": [
    {
     "name": "stdout",
     "output_type": "stream",
     "text": [
      "A sentença é falsa!\n"
     ]
    }
   ],
   "source": [
    "# Condicional if...else\n",
    "if 5 < 2:\n",
    "    print(\"A sentença é verdadeira!\")\n",
    "else:\n",
    "    print(\"A sentença é falsa!\")"
   ]
  },
  {
   "cell_type": "code",
   "execution_count": 15,
   "id": "e1ff0e6a",
   "metadata": {},
   "outputs": [
    {
     "name": "stdout",
     "output_type": "stream",
     "text": [
      "Hoje vai chover!\n"
     ]
    }
   ],
   "source": [
    "# Condicional if...else com variável\n",
    "dia = \"Quarta-feira\"\n",
    "if dia == \"Sexta-feira\":\n",
    "    print(\"Hoje fará sol!\")\n",
    "else:\n",
    "    print(\"Hoje vai chover!\")"
   ]
  },
  {
   "cell_type": "code",
   "execution_count": null,
   "id": "eb1b31d1",
   "metadata": {},
   "outputs": [],
   "source": [
    "# Abrindo arquivos\n",
    "a1 = open(\"arquivos/arquivo1.txt\",\"r\")"
   ]
  },
  {
   "cell_type": "code",
   "execution_count": null,
   "id": "6e7777c6",
   "metadata": {},
   "outputs": [],
   "source": [
    "# Lendo o arquivo\n",
    "print(a1.read())"
   ]
  },
  {
   "cell_type": "code",
   "execution_count": null,
   "id": "dddcd7ca",
   "metadata": {},
   "outputs": [],
   "source": [
    "a2 = open(\"arquivos/arquivo2.txt\", \"w\")"
   ]
  },
  {
   "cell_type": "code",
   "execution_count": null,
   "id": "070ff444",
   "metadata": {},
   "outputs": [],
   "source": [
    "a2.write(\"Aprendendo Python em 2023/2!\")"
   ]
  },
  {
   "cell_type": "code",
   "execution_count": null,
   "id": "08360946",
   "metadata": {},
   "outputs": [],
   "source": [
    "a2 = open(\"arquivos/arquivo2.txt\", \"r\")"
   ]
  },
  {
   "cell_type": "code",
   "execution_count": null,
   "id": "aa5ff064",
   "metadata": {},
   "outputs": [],
   "source": [
    "print(a2.read())"
   ]
  }
 ],
 "metadata": {
  "kernelspec": {
   "display_name": "Python 3 (ipykernel)",
   "language": "python",
   "name": "python3"
  },
  "language_info": {
   "codemirror_mode": {
    "name": "ipython",
    "version": 3
   },
   "file_extension": ".py",
   "mimetype": "text/x-python",
   "name": "python",
   "nbconvert_exporter": "python",
   "pygments_lexer": "ipython3",
   "version": "3.11.5"
  }
 },
 "nbformat": 4,
 "nbformat_minor": 5
}
