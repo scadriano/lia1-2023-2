{
 "cells": [
  {
   "cell_type": "markdown",
   "id": "0b1b4dea",
   "metadata": {},
   "source": [
    "## LIA PROJETO 1"
   ]
  },
  {
   "cell_type": "markdown",
   "id": "e12090b7",
   "metadata": {},
   "source": [
    "<hr style=\"height:10px\"> \n",
    " \n",
    "<div class='container2'>\n",
    "\t\t<div>\n",
    "\t\t\t<img src='https://camo.githubusercontent.com/21c91954eac7b957bf3f57a1783b6de4cbdf028611736e69ad2a44c37d0dbd17/68747470733a2f2f6c68332e676f6f676c6575736572636f6e74656e742e636f6d2f612d2f4146645a75636f4f65744c34394934776c38725245326372465a73524376304a6d314e76526a6c34427642733d7339362d632d72672d6272313030' ALIGN='left' style='width:10em'>\n",
    "\t\t</div>\t\n",
    "\t<div style='padding: 0 7em 2em 12em;'>\n",
    "\t<h1>Laboratório de Inovação e Automação 1 (LIA 1)</h1>\n",
    "\t<div style=\"font-size:12pt;float:left;\"> 2023/2 | 24M34 | Sala 200 CAE</div><br><br>\n",
    "    <div style=\"font-size:12pt;float:left;\"><b>Projetos de Inteligência Artificial</b></div>\n",
    "\t</div>\n",
    "</div>\n",
    "\n",
    "\n",
    " <hr style=\"height:5px\"> \n",
    "\n",
    "    \n",
    "<h2>Introdução ao Ambiente de Projetos - Python</h2>\n",
    "\n",
    "<p>Notebook desenvolvido por: Matheus Isac</p>\n",
    "\n",
    " <hr style=\"height:2px\"> "
   ]
  },
  {
   "cell_type": "markdown",
   "id": "68444310",
   "metadata": {},
   "source": [
    "#### Tudo sobre Python:\n",
    "\n",
    "https://docs.python.org/pt-br/3/tutorial/"
   ]
  },
  {
   "cell_type": "code",
   "execution_count": 9,
   "id": "0128d383",
   "metadata": {},
   "outputs": [
    {
     "name": "stdout",
     "output_type": "stream",
     "text": [
      "A versão em uso é 3.9.12.\n"
     ]
    }
   ],
   "source": [
    "from platform import python_version\n",
    "print(f'A versão em uso é {python_version()}.')"
   ]
  },
  {
   "cell_type": "code",
   "execution_count": 19,
   "id": "ea944b61",
   "metadata": {},
   "outputs": [
    {
     "name": "stdout",
     "output_type": "stream",
     "text": [
      "Bye bye, World!\n"
     ]
    }
   ],
   "source": [
    "print('Bye bye, World!')"
   ]
  },
  {
   "cell_type": "markdown",
   "id": "8de8f52a",
   "metadata": {},
   "source": [
    "##### Operações"
   ]
  },
  {
   "cell_type": "code",
   "execution_count": 11,
   "id": "7e78d1f3",
   "metadata": {},
   "outputs": [
    {
     "data": {
      "text/plain": [
       "2"
      ]
     },
     "execution_count": 11,
     "metadata": {},
     "output_type": "execute_result"
    }
   ],
   "source": [
    "#adição\n",
    "1+1"
   ]
  },
  {
   "cell_type": "code",
   "execution_count": 13,
   "id": "f47ea58e",
   "metadata": {},
   "outputs": [
    {
     "data": {
      "text/plain": [
       "1"
      ]
     },
     "execution_count": 13,
     "metadata": {},
     "output_type": "execute_result"
    }
   ],
   "source": [
    "#subtração\n",
    "2-1"
   ]
  },
  {
   "cell_type": "code",
   "execution_count": 14,
   "id": "7155c474",
   "metadata": {},
   "outputs": [
    {
     "data": {
      "text/plain": [
       "4"
      ]
     },
     "execution_count": 14,
     "metadata": {},
     "output_type": "execute_result"
    }
   ],
   "source": [
    "#Multiplicação\n",
    "2*2"
   ]
  },
  {
   "cell_type": "code",
   "execution_count": 15,
   "id": "16671f97",
   "metadata": {},
   "outputs": [
    {
     "data": {
      "text/plain": [
       "2.0"
      ]
     },
     "execution_count": 15,
     "metadata": {},
     "output_type": "execute_result"
    }
   ],
   "source": [
    "#Divisão\n",
    "4/2"
   ]
  },
  {
   "cell_type": "code",
   "execution_count": 17,
   "id": "ba233ef9",
   "metadata": {},
   "outputs": [
    {
     "data": {
      "text/plain": [
       "16"
      ]
     },
     "execution_count": 17,
     "metadata": {},
     "output_type": "execute_result"
    }
   ],
   "source": [
    "#Potência\n",
    "4**2"
   ]
  },
  {
   "cell_type": "code",
   "execution_count": 18,
   "id": "1353b490",
   "metadata": {},
   "outputs": [
    {
     "data": {
      "text/plain": [
       "1"
      ]
     },
     "execution_count": 18,
     "metadata": {},
     "output_type": "execute_result"
    }
   ],
   "source": [
    "#Modulo(Resto)\n",
    "10%3"
   ]
  },
  {
   "cell_type": "markdown",
   "id": "12cf8804",
   "metadata": {},
   "source": [
    "#### Tipo de Dados (Type)"
   ]
  },
  {
   "cell_type": "code",
   "execution_count": 20,
   "id": "52e1005f",
   "metadata": {},
   "outputs": [
    {
     "data": {
      "text/plain": [
       "int"
      ]
     },
     "execution_count": 20,
     "metadata": {},
     "output_type": "execute_result"
    }
   ],
   "source": [
    "#Tipo do (?) -> inteiro\n",
    "type(5)"
   ]
  },
  {
   "cell_type": "code",
   "execution_count": 21,
   "id": "3ed2abb6",
   "metadata": {},
   "outputs": [
    {
     "data": {
      "text/plain": [
       "float"
      ]
     },
     "execution_count": 21,
     "metadata": {},
     "output_type": "execute_result"
    }
   ],
   "source": [
    "#Tipo do (?) -> Float\n",
    "type(5.0)"
   ]
  },
  {
   "cell_type": "code",
   "execution_count": 22,
   "id": "8fcf24ec",
   "metadata": {},
   "outputs": [
    {
     "data": {
      "text/plain": [
       "str"
      ]
     },
     "execution_count": 22,
     "metadata": {},
     "output_type": "execute_result"
    }
   ],
   "source": [
    "#Tipo do (?) -> String\n",
    "a = \"Estudando Python!\"\n",
    "type(a)"
   ]
  },
  {
   "cell_type": "markdown",
   "id": "b9600d16",
   "metadata": {},
   "source": [
    "#### Condicional if"
   ]
  },
  {
   "cell_type": "code",
   "execution_count": 23,
   "id": "31fdfba3",
   "metadata": {},
   "outputs": [
    {
     "name": "stdout",
     "output_type": "stream",
     "text": [
      "Verdadeiro\n"
     ]
    }
   ],
   "source": [
    "# Condicional if (Se)\n",
    "if 5>2:\n",
    "    print(\"Verdadeiro\")"
   ]
  },
  {
   "cell_type": "code",
   "execution_count": 24,
   "id": "6e7da0a5",
   "metadata": {},
   "outputs": [
    {
     "name": "stdout",
     "output_type": "stream",
     "text": [
      "Chuva\n"
     ]
    }
   ],
   "source": [
    "#Condicional if..else\n",
    "dia=\"Quarta\"\n",
    "if dia == \"Sexta\":\n",
    "    print(\"Sol\")\n",
    "else:\n",
    "    print(\"Chuva\")   "
   ]
  },
  {
   "cell_type": "markdown",
   "id": "983cbbdd",
   "metadata": {},
   "source": [
    "#### Lendo arquivos"
   ]
  },
  {
   "cell_type": "code",
   "execution_count": 30,
   "id": "b8dae1e9",
   "metadata": {},
   "outputs": [
    {
     "name": "stdout",
     "output_type": "stream",
     "text": [
      "Tamo junto. Escrevi pelo codTamo junto. Escrevi pelo cod\n"
     ]
    }
   ],
   "source": [
    "a1 = open(\"arquivos/text.txt\", \"r\")\n",
    "print(a1.read())\n",
    "a1.close()"
   ]
  },
  {
   "cell_type": "markdown",
   "id": "eab5d02a",
   "metadata": {},
   "source": [
    "#### Gravando arquivos"
   ]
  },
  {
   "cell_type": "code",
   "execution_count": 40,
   "id": "37e55f4d",
   "metadata": {},
   "outputs": [],
   "source": [
    "#Abrindo pra edição\n",
    "a1 = open(\"arquivos/text.txt\", \"w\")"
   ]
  },
  {
   "cell_type": "code",
   "execution_count": 41,
   "id": "0d064f13",
   "metadata": {},
   "outputs": [
    {
     "data": {
      "text/plain": [
       "28"
      ]
     },
     "execution_count": 41,
     "metadata": {},
     "output_type": "execute_result"
    }
   ],
   "source": [
    "#Escrevendo\n",
    "a1.write(\"Tamo junto. Escrevi pelo cod\")"
   ]
  },
  {
   "cell_type": "code",
   "execution_count": 42,
   "id": "a08255fa",
   "metadata": {},
   "outputs": [
    {
     "ename": "UnsupportedOperation",
     "evalue": "not readable",
     "output_type": "error",
     "traceback": [
      "\u001b[1;31m---------------------------------------------------------------------------\u001b[0m",
      "\u001b[1;31mUnsupportedOperation\u001b[0m                      Traceback (most recent call last)",
      "Input \u001b[1;32mIn [42]\u001b[0m, in \u001b[0;36m<cell line: 1>\u001b[1;34m()\u001b[0m\n\u001b[1;32m----> 1\u001b[0m \u001b[38;5;28mprint\u001b[39m(\u001b[43ma1\u001b[49m\u001b[38;5;241;43m.\u001b[39;49m\u001b[43mread\u001b[49m\u001b[43m(\u001b[49m\u001b[43m)\u001b[49m)\n",
      "\u001b[1;31mUnsupportedOperation\u001b[0m: not readable"
     ]
    }
   ],
   "source": [
    "print(a1.read())"
   ]
  },
  {
   "cell_type": "code",
   "execution_count": null,
   "id": "7386e589",
   "metadata": {},
   "outputs": [],
   "source": []
  }
 ],
 "metadata": {
  "kernelspec": {
   "display_name": "Python 3 (ipykernel)",
   "language": "python",
   "name": "python3"
  },
  "language_info": {
   "codemirror_mode": {
    "name": "ipython",
    "version": 3
   },
   "file_extension": ".py",
   "mimetype": "text/x-python",
   "name": "python",
   "nbconvert_exporter": "python",
   "pygments_lexer": "ipython3",
   "version": "3.9.12"
  }
 },
 "nbformat": 4,
 "nbformat_minor": 5
}
