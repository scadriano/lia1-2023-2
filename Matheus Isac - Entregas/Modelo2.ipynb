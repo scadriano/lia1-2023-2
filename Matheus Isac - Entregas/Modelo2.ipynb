{
 "cells": [
  {
   "cell_type": "code",
   "execution_count": 1,
   "id": "2ae02298",
   "metadata": {},
   "outputs": [],
   "source": [
    "import os\n",
    "from PIL import Image\n",
    "import tensorflow as tf\n",
    "from tensorflow.keras import layers"
   ]
  },
  {
   "cell_type": "code",
   "execution_count": 2,
   "id": "cd035c62",
   "metadata": {},
   "outputs": [],
   "source": [
    "# Diretórios\n",
    "dir_treino = \"archive\\Train_Images\"\n",
    "dir_teste = 'archive\\Test_Images'\n",
    "\n",
    "# Tipos de imagens\n",
    "tipos = ['CC', 'EC', 'HGSC', 'LGSC', 'MC']\n",
    "\n",
    "# Função para carregar imagens\n",
    "def carregar_imagens(diretorio, tipos):\n",
    "    imagens = []\n",
    "    labels = []\n",
    "    for tipo in tipos:\n",
    "        dir_tipo = os.path.join(diretorio, tipo)\n",
    "        for nome_imagem in os.listdir(dir_tipo):\n",
    "            imagem = Image.open(os.path.join(dir_tipo, nome_imagem))\n",
    "            imagens.append(imagem.copy())  # Copie a imagem para que possamos fechá-la imediatamente\n",
    "            imagem.close()  # Feche a imagem\n",
    "            labels.append(tipo)\n",
    "    return imagens, labels\n",
    "\n",
    "\n",
    "# Carregar imagens de treino e teste\n",
    "imagens_treino, labels_treino = carregar_imagens(dir_treino, tipos)\n",
    "imagens_teste, labels_teste = carregar_imagens(dir_teste, tipos)\n"
   ]
  },
  {
   "cell_type": "code",
   "execution_count": 3,
   "id": "c9842ed6",
   "metadata": {},
   "outputs": [
    {
     "ename": "ValueError",
     "evalue": "invalid literal for int() with base 10: 'CC'",
     "output_type": "error",
     "traceback": [
      "\u001b[1;31m---------------------------------------------------------------------------\u001b[0m",
      "\u001b[1;31mValueError\u001b[0m                                Traceback (most recent call last)",
      "Input \u001b[1;32mIn [3]\u001b[0m, in \u001b[0;36m<cell line: 6>\u001b[1;34m()\u001b[0m\n\u001b[0;32m      3\u001b[0m imagens_teste \u001b[38;5;241m=\u001b[39m [tf\u001b[38;5;241m.\u001b[39mimage\u001b[38;5;241m.\u001b[39mresize(imagem, (\u001b[38;5;241m224\u001b[39m, \u001b[38;5;241m224\u001b[39m)) \u001b[38;5;28;01mfor\u001b[39;00m imagem \u001b[38;5;129;01min\u001b[39;00m imagens_teste]\n\u001b[0;32m      5\u001b[0m \u001b[38;5;66;03m# Codificação one-hot dos rótulos\u001b[39;00m\n\u001b[1;32m----> 6\u001b[0m labels_treino \u001b[38;5;241m=\u001b[39m \u001b[43mtf\u001b[49m\u001b[38;5;241;43m.\u001b[39;49m\u001b[43mkeras\u001b[49m\u001b[38;5;241;43m.\u001b[39;49m\u001b[43mutils\u001b[49m\u001b[38;5;241;43m.\u001b[39;49m\u001b[43mto_categorical\u001b[49m\u001b[43m(\u001b[49m\u001b[43mlabels_treino\u001b[49m\u001b[43m)\u001b[49m\n\u001b[0;32m      7\u001b[0m labels_teste \u001b[38;5;241m=\u001b[39m tf\u001b[38;5;241m.\u001b[39mkeras\u001b[38;5;241m.\u001b[39mutils\u001b[38;5;241m.\u001b[39mto_categorical(labels_teste)\n\u001b[0;32m      9\u001b[0m \u001b[38;5;66;03m# Criação do modelo\u001b[39;00m\n",
      "File \u001b[1;32m~\\anaconda3\\lib\\site-packages\\keras\\utils\\np_utils.py:62\u001b[0m, in \u001b[0;36mto_categorical\u001b[1;34m(y, num_classes, dtype)\u001b[0m\n\u001b[0;32m     23\u001b[0m \u001b[38;5;129m@keras_export\u001b[39m(\u001b[38;5;124m\"\u001b[39m\u001b[38;5;124mkeras.utils.to_categorical\u001b[39m\u001b[38;5;124m\"\u001b[39m)\n\u001b[0;32m     24\u001b[0m \u001b[38;5;28;01mdef\u001b[39;00m \u001b[38;5;21mto_categorical\u001b[39m(y, num_classes\u001b[38;5;241m=\u001b[39m\u001b[38;5;28;01mNone\u001b[39;00m, dtype\u001b[38;5;241m=\u001b[39m\u001b[38;5;124m\"\u001b[39m\u001b[38;5;124mfloat32\u001b[39m\u001b[38;5;124m\"\u001b[39m):\n\u001b[0;32m     25\u001b[0m     \u001b[38;5;124;03m\"\"\"Converts a class vector (integers) to binary class matrix.\u001b[39;00m\n\u001b[0;32m     26\u001b[0m \n\u001b[0;32m     27\u001b[0m \u001b[38;5;124;03m    E.g. for use with `categorical_crossentropy`.\u001b[39;00m\n\u001b[1;32m   (...)\u001b[0m\n\u001b[0;32m     60\u001b[0m \u001b[38;5;124;03m    [0. 0. 0. 0.]\u001b[39;00m\n\u001b[0;32m     61\u001b[0m \u001b[38;5;124;03m    \"\"\"\u001b[39;00m\n\u001b[1;32m---> 62\u001b[0m     y \u001b[38;5;241m=\u001b[39m \u001b[43mnp\u001b[49m\u001b[38;5;241;43m.\u001b[39;49m\u001b[43marray\u001b[49m\u001b[43m(\u001b[49m\u001b[43my\u001b[49m\u001b[43m,\u001b[49m\u001b[43m \u001b[49m\u001b[43mdtype\u001b[49m\u001b[38;5;241;43m=\u001b[39;49m\u001b[38;5;124;43m\"\u001b[39;49m\u001b[38;5;124;43mint\u001b[39;49m\u001b[38;5;124;43m\"\u001b[39;49m\u001b[43m)\u001b[49m\n\u001b[0;32m     63\u001b[0m     input_shape \u001b[38;5;241m=\u001b[39m y\u001b[38;5;241m.\u001b[39mshape\n\u001b[0;32m     65\u001b[0m     \u001b[38;5;66;03m# Shrink the last dimension if the shape is (..., 1).\u001b[39;00m\n",
      "\u001b[1;31mValueError\u001b[0m: invalid literal for int() with base 10: 'CC'"
     ]
    }
   ],
   "source": [
    "# Pré-processamento das imagens\n",
    "imagens_treino = [tf.image.resize(imagem, (224, 224)) for imagem in imagens_treino]\n",
    "imagens_teste = [tf.image.resize(imagem, (224, 224)) for imagem in imagens_teste]\n",
    "\n",
    "# Codificação one-hot dos rótulos\n",
    "labels_treino = tf.keras.utils.to_categorical(labels_treino)\n",
    "labels_teste = tf.keras.utils.to_categorical(labels_teste)\n",
    "\n",
    "# Criação do modelo\n",
    "modelo = tf.keras.models.Sequential([\n",
    "    layers.Conv2D(32, (3, 3), activation='relu', input_shape=(224, 224, 3)),\n",
    "    layers.MaxPooling2D((2, 2)),\n",
    "    layers.Conv2D(64, (3, 3), activation='relu'),\n",
    "    layers.MaxPooling2D((2, 2)),\n",
    "    layers.Flatten(),\n",
    "    layers.Dense(64, activation='relu'),\n",
    "    layers.Dense(len(tipos), activation='softmax')\n",
    "])\n",
    "\n",
    "# Compilação do modelo\n",
    "modelo.compile(optimizer='adam', loss='categorical_crossentropy', metrics=['accuracy'])\n",
    "\n",
    "# Treinamento do modelo\n",
    "modelo.fit(imagens_treino, labels_treino, epochs=10, validation_data=(imagens_teste, labels_teste))\n"
   ]
  },
  {
   "cell_type": "code",
   "execution_count": null,
   "id": "44f4776d",
   "metadata": {},
   "outputs": [],
   "source": [
    "modelo.summary()"
   ]
  }
 ],
 "metadata": {
  "kernelspec": {
   "display_name": "Python 3 (ipykernel)",
   "language": "python",
   "name": "python3"
  },
  "language_info": {
   "codemirror_mode": {
    "name": "ipython",
    "version": 3
   },
   "file_extension": ".py",
   "mimetype": "text/x-python",
   "name": "python",
   "nbconvert_exporter": "python",
   "pygments_lexer": "ipython3",
   "version": "3.9.12"
  }
 },
 "nbformat": 4,
 "nbformat_minor": 5
}
